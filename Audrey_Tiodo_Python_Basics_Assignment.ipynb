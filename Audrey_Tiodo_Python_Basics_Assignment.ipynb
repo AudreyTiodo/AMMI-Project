{
  "nbformat": 4,
  "nbformat_minor": 0,
  "metadata": {
    "colab": {
      "provenance": []
    },
    "kernelspec": {
      "name": "python3",
      "display_name": "Python 3"
    },
    "language_info": {
      "name": "python"
    }
  },
  "cells": [
    {
      "cell_type": "markdown",
      "source": [
        "#**Assignment 2 of python by Audrey DJIOSSEU TIODO**#"
      ],
      "metadata": {
        "id": "WAMhm7g4velJ"
      }
    },
    {
      "cell_type": "markdown",
      "source": [
        "# Ex1:\n",
        "\n",
        "Declare a destroy_elements function that accepts two lists.\n",
        "It should return a list of all elements from the first list that are NOT contained in the second list.\n",
        " Use list comprehension in your solution.\n",
        "\n",
        " EXAMPLES\n",
        "* destroy_elements([1, 2, 3], [1, 2])      => [3]\n",
        "* destroy_elements([1, 2, 3], [1, 2, 3])   => []\n",
        "* destroy_elements([1, 2, 3], [4, 5])      => [1, 2, 3]"
      ],
      "metadata": {
        "id": "MkYYtX6Ktz35"
      }
    },
    {
      "cell_type": "code",
      "source": [
        "# Write your code here"
      ],
      "metadata": {
        "id": "s1FXYOjax-0Y"
      },
      "execution_count": null,
      "outputs": []
    },
    {
      "cell_type": "code",
      "source": [
        "def destroy_elements(list1, list2):\n",
        "    result = []\n",
        "    for element in list1:\n",
        "        if element not in list2:\n",
        "            result.append(element)\n",
        "    return result"
      ],
      "metadata": {
        "id": "3saaOV5XuAYD"
      },
      "execution_count": null,
      "outputs": []
    },
    {
      "cell_type": "code",
      "source": [
        "destroy_elements([1, 2, 3], [4, 5])"
      ],
      "metadata": {
        "colab": {
          "base_uri": "https://localhost:8080/"
        },
        "id": "Dl_F3lWfuWbV",
        "outputId": "dde0a969-d0bf-4b26-e753-5d626195e295"
      },
      "execution_count": null,
      "outputs": [
        {
          "output_type": "execute_result",
          "data": {
            "text/plain": [
              "[1, 2, 3]"
            ]
          },
          "metadata": {},
          "execution_count": 3
        }
      ]
    },
    {
      "cell_type": "markdown",
      "source": [
        "# Ex2 (Majority element)\n",
        "Given an array nums of size n, return the majority element.\n",
        "\n",
        "The majority element is the element that appears more than ⌊n / 2⌋ times. You may assume that the majority element always exists in the array.\n",
        "\n",
        "Input: nums = [2,2,1,1,1,2,2] <br>\n",
        "Output: 2"
      ],
      "metadata": {
        "id": "UZq_NOou7ke9"
      }
    },
    {
      "cell_type": "code",
      "source": [
        "def majorityElement(nums):\n",
        "    count = 0\n",
        "    candidate = None\n",
        "\n",
        "    for num in nums:\n",
        "        if count == 0:\n",
        "            candidate = num\n",
        "        count += (1 if num == candidate else -1)\n",
        "\n",
        "    return candidate"
      ],
      "metadata": {
        "id": "NjhAiqVLzSQL"
      },
      "execution_count": null,
      "outputs": []
    },
    {
      "cell_type": "code",
      "source": [
        "majorityElement([2,2,1,1,1,2,2])"
      ],
      "metadata": {
        "colab": {
          "base_uri": "https://localhost:8080/"
        },
        "id": "Zt-e2oCh2vHQ",
        "outputId": "95e646cd-f158-4016-b4a0-9becfa363672"
      },
      "execution_count": null,
      "outputs": [
        {
          "output_type": "execute_result",
          "data": {
            "text/plain": [
              "2"
            ]
          },
          "metadata": {},
          "execution_count": 15
        }
      ]
    },
    {
      "cell_type": "code",
      "source": [
        "# Write your code here\n",
        "def majorityElement(nums):\n",
        "  pass"
      ],
      "metadata": {
        "id": "xVn5x3Jas6W6"
      },
      "execution_count": null,
      "outputs": []
    },
    {
      "cell_type": "markdown",
      "source": [
        "# Ex3:\n",
        "\n",
        "Given an integer array nums, return true if any value appears at least twice in the array, and return false if every element is distinct.\n",
        "\n",
        "Input: nums = [1,2,3,1] <br>\n",
        "Output: true"
      ],
      "metadata": {
        "id": "puVxPeZP9IGO"
      }
    },
    {
      "cell_type": "code",
      "source": [
        "def contains_Duplicate(nums):\n",
        "    nums.sort()\n",
        "    for i in range(len(nums) - 1):\n",
        "        if nums[i] == nums[i + 1]:\n",
        "            return True\n",
        "    return False\n"
      ],
      "metadata": {
        "id": "2M3v-F1zPb0r"
      },
      "execution_count": null,
      "outputs": []
    },
    {
      "cell_type": "code",
      "source": [
        "print(contains_Duplicate([1, 2, 3, 1]))\n",
        "print(contains_Duplicate([1, 2, 3, 4]))"
      ],
      "metadata": {
        "colab": {
          "base_uri": "https://localhost:8080/"
        },
        "id": "pC3cTkCOP4e9",
        "outputId": "333da9db-cb25-47e7-cd94-903bd7dbcd7f"
      },
      "execution_count": null,
      "outputs": [
        {
          "output_type": "stream",
          "name": "stdout",
          "text": [
            "True\n",
            "False\n"
          ]
        }
      ]
    },
    {
      "cell_type": "markdown",
      "source": [
        "# Ex4:\n",
        "Write a factors function that accepts a positive whole number\n",
        "It should return a list of all of the number's factors in ascending order\n",
        " HINT: Could the range function be helpful here? Or maybe a while loop?\n",
        "EXAMPLES\n",
        "\n",
        "* factors(1)  => [1]\n",
        "* factors(2)  => [1, 2]\n",
        "* factors(10) => [1, 2, 5, 10]\n",
        "* factors(64) => [1, 2, 4, 8, 16, 32, 64]\n"
      ],
      "metadata": {
        "id": "rVd-qLroC36V"
      }
    },
    {
      "cell_type": "markdown",
      "source": [
        "##**In this exercise, we can use the range function and also a while loop? below you'll find both approaches.**##"
      ],
      "metadata": {
        "id": "nnYb-1iLg8Eg"
      }
    },
    {
      "cell_type": "code",
      "source": [
        "def factors(n):\n",
        "    factors = []\n",
        "    i = 1\n",
        "    while i * i <= n:\n",
        "        if n % i == 0:\n",
        "            factors.append(i)\n",
        "            if i != n // i:\n",
        "                factors.append(n // i)\n",
        "        i += 1\n",
        "    factors.sort()\n",
        "    return factors"
      ],
      "metadata": {
        "id": "CS4J53SSe3bW"
      },
      "execution_count": null,
      "outputs": []
    },
    {
      "cell_type": "code",
      "source": [
        "factors(64)"
      ],
      "metadata": {
        "colab": {
          "base_uri": "https://localhost:8080/"
        },
        "id": "5nN58ozpfLQ3",
        "outputId": "7f88e67f-113c-498a-9b27-5ba07e3ad58e"
      },
      "execution_count": null,
      "outputs": [
        {
          "output_type": "execute_result",
          "data": {
            "text/plain": [
              "[1, 2, 4, 8, 16, 32, 64]"
            ]
          },
          "metadata": {},
          "execution_count": 4
        }
      ]
    },
    {
      "cell_type": "code",
      "source": [
        "def factor(n):\n",
        "    return [i for i in range(1, n + 1) if n % i == 0]"
      ],
      "metadata": {
        "id": "8aQO3_1WgIkP"
      },
      "execution_count": null,
      "outputs": []
    },
    {
      "cell_type": "code",
      "source": [
        "factor(64)"
      ],
      "metadata": {
        "colab": {
          "base_uri": "https://localhost:8080/"
        },
        "id": "mHog3xgpgVAv",
        "outputId": "90586e8b-cf5e-4f4e-e0a6-4a9cf70cbbf2"
      },
      "execution_count": null,
      "outputs": [
        {
          "output_type": "execute_result",
          "data": {
            "text/plain": [
              "[1, 2, 4, 8, 16, 32, 64]"
            ]
          },
          "metadata": {},
          "execution_count": 6
        }
      ]
    },
    {
      "cell_type": "code",
      "source": [
        "# Write your code here"
      ],
      "metadata": {
        "id": "D0yaEPVHuczY"
      },
      "execution_count": null,
      "outputs": []
    },
    {
      "cell_type": "markdown",
      "source": [
        "#Ex5:\n",
        "Write a Python function that takes a positive integer as input and returns the sum of the squares of all the positive integers up to that number."
      ],
      "metadata": {
        "id": "h4ErNY7uG5xR"
      }
    },
    {
      "cell_type": "code",
      "source": [
        "def sum_squares(n):\n",
        "    sum = 0\n",
        "    for i in range(1, n + 1):\n",
        "        sum += i ** 2\n",
        "    return sum"
      ],
      "metadata": {
        "id": "jOypW-jFj3w0"
      },
      "execution_count": null,
      "outputs": []
    },
    {
      "cell_type": "code",
      "source": [
        "sum_squares(3)"
      ],
      "metadata": {
        "colab": {
          "base_uri": "https://localhost:8080/"
        },
        "id": "n9wsa3gRkf-A",
        "outputId": "9cf4df91-fa2b-42a9-afa9-3f897223bdb0"
      },
      "execution_count": null,
      "outputs": [
        {
          "output_type": "execute_result",
          "data": {
            "text/plain": [
              "14"
            ]
          },
          "metadata": {},
          "execution_count": 10
        }
      ]
    },
    {
      "cell_type": "code",
      "source": [
        "# Write your code here"
      ],
      "metadata": {
        "id": "ocvQN8hUubSr"
      },
      "execution_count": null,
      "outputs": []
    },
    {
      "cell_type": "markdown",
      "source": [
        "#Ex6:\n",
        "Create a list of tuples, where each tuple represents a person with a name and age. Sort the list based on the age of the individuals."
      ],
      "metadata": {
        "id": "88GfmnrlHVqu"
      }
    },
    {
      "cell_type": "code",
      "source": [
        "person = [(\"AUDREY\", 32), (\"JORDAN\", 24), (\"DYLAN\", 45), (\"DANIELLE\", 19)]\n",
        "person.sort(key=lambda x: x[1])\n",
        "print(person)"
      ],
      "metadata": {
        "colab": {
          "base_uri": "https://localhost:8080/"
        },
        "id": "fLxVFxg5zfFG",
        "outputId": "c3e6ddb3-77c4-4c39-af98-f63f574e0636"
      },
      "execution_count": null,
      "outputs": [
        {
          "output_type": "stream",
          "name": "stdout",
          "text": [
            "[('DANIELLE', 19), ('JORDAN', 24), ('AUDREY', 32), ('DYLAN', 45)]\n"
          ]
        }
      ]
    },
    {
      "cell_type": "code",
      "source": [
        "# Write your code here"
      ],
      "metadata": {
        "id": "CHmcYjf4uu8N"
      },
      "execution_count": null,
      "outputs": []
    },
    {
      "cell_type": "markdown",
      "source": [
        "#Ex7:\n",
        "Write a function that takes a list of words and a minimum length, and returns a new list containing only the words that are longer than the specified length."
      ],
      "metadata": {
        "id": "-2cOhkMwHIg4"
      }
    },
    {
      "cell_type": "code",
      "source": [
        "def filter_words_length(w, ml):\n",
        "    result = []\n",
        "    for i in w:\n",
        "        if len(i) > ml:\n",
        "            result.append(i)\n",
        "    return result"
      ],
      "metadata": {
        "id": "izItT50OsF-2"
      },
      "execution_count": null,
      "outputs": []
    },
    {
      "cell_type": "code",
      "source": [
        "words = [\"cameroun\", \"tchad\", \"kenya\", \"senegal\", \"ethiopia\"]\n",
        "filtered = filter_words_length(words, 5)\n",
        "print(filtered)"
      ],
      "metadata": {
        "colab": {
          "base_uri": "https://localhost:8080/"
        },
        "id": "goUZS9xAsspB",
        "outputId": "f171f723-2dce-4572-fa0f-a5c6ed55a4a2"
      },
      "execution_count": null,
      "outputs": [
        {
          "output_type": "stream",
          "name": "stdout",
          "text": [
            "['cameroun', 'senegal', 'ethiopia']\n"
          ]
        }
      ]
    },
    {
      "cell_type": "code",
      "source": [
        "# Write your code here"
      ],
      "metadata": {
        "id": "JObqLzcWvJds"
      },
      "execution_count": null,
      "outputs": []
    },
    {
      "cell_type": "markdown",
      "source": [
        "# Ex8:\n",
        "Declare a delete_all function that accepts a list and a target\n",
        "Remove all occurrences of the target  from the list and return it\n",
        "\n",
        "EXAMPLES\n",
        "* delete_all([1, 3, 5], 3)  => [1, 5]\n",
        "* delete_all([5, 3, 5], 5)  => [3]\n",
        "* delete_all([4, 4, 4], 4)  => []\n",
        "* delete_all([4, 4, 4], 6)  => [4, 4, 4]"
      ],
      "metadata": {
        "id": "0ZS6BKpEDu9x"
      }
    },
    {
      "cell_type": "code",
      "source": [
        "def delete_all(list, target):\n",
        "    result = []\n",
        "    for x in list:\n",
        "        if x != target:\n",
        "            result.append(x)\n",
        "    return result"
      ],
      "metadata": {
        "id": "ZFtaAB6evdAU"
      },
      "execution_count": null,
      "outputs": []
    },
    {
      "cell_type": "code",
      "source": [
        "print(delete_all([1, 3, 5], 3))\n",
        "print(delete_all([5, 3, 5], 5))\n",
        "print(delete_all([4, 4, 4], 4))\n",
        "print(delete_all([4, 4, 4], 6))"
      ],
      "metadata": {
        "colab": {
          "base_uri": "https://localhost:8080/"
        },
        "id": "o7kSlGaavsF_",
        "outputId": "283c6e34-4542-425d-8ad3-f2ff6e4ee790"
      },
      "execution_count": null,
      "outputs": [
        {
          "output_type": "stream",
          "name": "stdout",
          "text": [
            "[1, 5]\n",
            "[3]\n",
            "[]\n",
            "[4, 4, 4]\n"
          ]
        }
      ]
    },
    {
      "cell_type": "code",
      "source": [
        "# Write your code here"
      ],
      "metadata": {
        "id": "iKKREE4XvyWL"
      },
      "execution_count": null,
      "outputs": []
    },
    {
      "cell_type": "markdown",
      "source": [
        "# Ex9:\n",
        "\n",
        "Define an encrypt_message function that accepts a string.\n",
        " The input string will consist of only alphabetic characters.\n",
        " The function should return a string where all characters have been moved\n",
        " \"up\" two spots in the alphabet. For example, \"a\" will become \"c\".\n",
        "\n",
        " EXAMPLES\n",
        "* encrypt_message(\"abc\") =&gt; \"cde\"\n",
        "* encrypt_message(\"xyz\") =&gt; \"zab\"\n",
        "* encrypt_message(\"\")    =&gt; \"\"\n",
        "\n",
        "* bonus:  can you write a function to decrypt the encrypted message :)"
      ],
      "metadata": {
        "id": "R4dKFHA6D4-m"
      }
    },
    {
      "cell_type": "code",
      "source": [
        "def encrypt_message(m):\n",
        "    encrypted = []\n",
        "    for char in m:\n",
        "        if 'a' <= char <= 'z':\n",
        "            shifted = chr(((ord(char) - ord('a') + 2) % 26) + ord('a'))\n",
        "        elif 'A' <= char <= 'Z':\n",
        "            shifted = chr(((ord(char) - ord('A') + 2) % 26) + ord('A'))\n",
        "        else:\n",
        "            shifted = char\n",
        "        encrypted.append(shifted)\n",
        "    return ''.join(encrypted)"
      ],
      "metadata": {
        "id": "wTHwq_VeweH-"
      },
      "execution_count": null,
      "outputs": []
    },
    {
      "cell_type": "markdown",
      "source": [
        "### Bonus: Decrypt function"
      ],
      "metadata": {
        "id": "jhfKPBLUxcdK"
      }
    },
    {
      "cell_type": "code",
      "source": [
        "# Bonus: Decrypt function (shifts back by 2)\n",
        "def decrypt_message(encrypted_message):\n",
        "    decrypted = []\n",
        "    for char in encrypted_message:\n",
        "        if 'a' <= char <= 'z':\n",
        "            shifted = chr(((ord(char) - ord('a') - 2) % 26) + ord('a'))\n",
        "        elif 'A' <= char <= 'Z':\n",
        "            shifted = chr(((ord(char) - ord('A') - 2) % 26) + ord('A'))\n",
        "        else:\n",
        "            shifted = char\n",
        "        decrypted.append(shifted)\n",
        "    return ''.join(decrypted)"
      ],
      "metadata": {
        "id": "SlgzKf0XxZCE"
      },
      "execution_count": null,
      "outputs": []
    },
    {
      "cell_type": "code",
      "source": [
        "print(encrypt_message(\"abc\"))\n",
        "print(encrypt_message(\"xyz\"))\n",
        "print(encrypt_message(\"\"))\n",
        "\n",
        "# Bonus decryption:\n",
        "print(decrypt_message(\"cde\"))\n",
        "print(decrypt_message(\"zab\"))"
      ],
      "metadata": {
        "colab": {
          "base_uri": "https://localhost:8080/"
        },
        "id": "eFQ8qzIZxE_R",
        "outputId": "dae315d9-3728-424f-b5bb-91da08caf9b0"
      },
      "execution_count": null,
      "outputs": [
        {
          "output_type": "stream",
          "name": "stdout",
          "text": [
            "cde\n",
            "zab\n",
            "\n",
            "abc\n",
            "xyz\n"
          ]
        }
      ]
    },
    {
      "cell_type": "code",
      "source": [
        "# Write your code here"
      ],
      "metadata": {
        "id": "b-Vd-7NUv2LA"
      },
      "execution_count": null,
      "outputs": []
    },
    {
      "cell_type": "markdown",
      "source": [
        "#Ex10:\n",
        "\n",
        "Define a word_lengths function that accepts a string.\n",
        "It should return a list with the lengths of each word.\n",
        "\n",
        " EXAMPLES\n",
        "* word_lengths(\"Mary Poppins was a nanny\")  => [4, 7, 3, 1, 5]\n",
        "* word_lengths(\"Somebody stole my donut\")   => [8, 5, 2, 5]"
      ],
      "metadata": {
        "id": "LDKoTj1NEFdY"
      }
    },
    {
      "cell_type": "code",
      "source": [
        "def word_lengths(sentence):\n",
        "\n",
        "    words_list = sentence.split()\n",
        "    lengths_list = [len(word) for word in words_list]\n",
        "    return lengths_list\n"
      ],
      "metadata": {
        "id": "AwMI7Ck6zky6"
      },
      "execution_count": null,
      "outputs": []
    },
    {
      "cell_type": "code",
      "source": [
        "word_lengths(\"Mary Poppins was a nanny\")"
      ],
      "metadata": {
        "colab": {
          "base_uri": "https://localhost:8080/"
        },
        "id": "u51EOFaW0Uw1",
        "outputId": "92136d78-5878-455b-803a-ea02ab627d83"
      },
      "execution_count": null,
      "outputs": [
        {
          "output_type": "execute_result",
          "data": {
            "text/plain": [
              "[4, 7, 3, 1, 5]"
            ]
          },
          "metadata": {},
          "execution_count": 26
        }
      ]
    },
    {
      "cell_type": "code",
      "source": [
        "# Write your code here"
      ],
      "metadata": {
        "id": "mou8C2sav7pS"
      },
      "execution_count": null,
      "outputs": []
    },
    {
      "cell_type": "markdown",
      "source": [
        "# Ex11:\n",
        "\n",
        "Define a cleanup function that accepts a list of strings.\n",
        "The function should return the strings joined together by a space.\n",
        "There's one BIG problem -- some of the strings are empty or only consist of spaces!\n",
        "These should NOT be included in the final string\n",
        "#\n",
        "* cleanup([\"cat\", \"er\", \"pillar\"])           => \"cat er pillar\"\n",
        "* cleanup([\"cat\", \" \", \"er\", \"\", \"pillar\"])  => \"cat er pillar\"\n",
        "* cleanup([\"\", \"\", \" \"])                     => \"\"\n"
      ],
      "metadata": {
        "id": "WFRV5VYbEWEd"
      }
    },
    {
      "cell_type": "code",
      "source": [
        "def cleanup(strings):\n",
        "    filtered = []\n",
        "\n",
        "    for s in strings:\n",
        "        if s.strip():\n",
        "            filtered.append(s)\n",
        "\n",
        "    cleaned_string = ' '.join(filtered)\n",
        "\n",
        "    return cleaned_string\n"
      ],
      "metadata": {
        "id": "VLiusfyl2b3K"
      },
      "execution_count": null,
      "outputs": []
    },
    {
      "cell_type": "code",
      "source": [
        "cleanup([\"cat\", \"er\", \"pillar\"])"
      ],
      "metadata": {
        "colab": {
          "base_uri": "https://localhost:8080/",
          "height": 36
        },
        "id": "kXCWuQq03PGi",
        "outputId": "4ce0982b-14a1-4b16-a629-be0065661dfa"
      },
      "execution_count": null,
      "outputs": [
        {
          "output_type": "execute_result",
          "data": {
            "text/plain": [
              "'cat er pillar'"
            ],
            "application/vnd.google.colaboratory.intrinsic+json": {
              "type": "string"
            }
          },
          "metadata": {},
          "execution_count": 33
        }
      ]
    },
    {
      "cell_type": "code",
      "source": [
        "# Write your code here"
      ],
      "metadata": {
        "id": "x3E0yruswBSn"
      },
      "execution_count": null,
      "outputs": []
    },
    {
      "cell_type": "markdown",
      "source": [
        "# Ex12:\n",
        "\n",
        "Define a nested_sum function that accepts a list of lists of numbers\n",
        "The function should return the sum of the values\n",
        " The list may contain empty lists\n",
        "\n",
        " EXAMPLES\n",
        "* nested_sum([[1, 2, 3], [4, 5]])            =&gt; 15\n",
        "* nested_sum([[1, 2, 3], [], [], [4], [5]])  =&gt; 15\n",
        "* nested_sum([[]])   "
      ],
      "metadata": {
        "id": "nIyrVVFDEnHE"
      }
    },
    {
      "cell_type": "code",
      "source": [
        "def nested_sum(lists):\n",
        "    total = 0\n",
        "    for sublist in lists:\n",
        "        total += sum(sublist)\n",
        "    return total"
      ],
      "metadata": {
        "id": "50RKPG6e4Ti6"
      },
      "execution_count": null,
      "outputs": []
    },
    {
      "cell_type": "code",
      "source": [
        "nested_sum([[1, 2, 3], [4, 5]])"
      ],
      "metadata": {
        "colab": {
          "base_uri": "https://localhost:8080/"
        },
        "id": "F1a_hfr74ZR9",
        "outputId": "4f891a68-913f-4058-cb8f-2af9bc69919a"
      },
      "execution_count": null,
      "outputs": [
        {
          "output_type": "execute_result",
          "data": {
            "text/plain": [
              "15"
            ]
          },
          "metadata": {},
          "execution_count": 35
        }
      ]
    },
    {
      "cell_type": "code",
      "source": [
        "# Write your code here"
      ],
      "metadata": {
        "id": "iL1WpI0lwE9Y"
      },
      "execution_count": null,
      "outputs": []
    },
    {
      "cell_type": "markdown",
      "source": [
        "#Ex13:\n",
        "Create a dictionary representing a person (include name, age, and city). Write a program to:\n",
        "\n",
        "* Print the person's information.\n",
        "* Update the person's age.\n",
        "* Add a new key-value pair for the person's occupation.\n",
        "* Display the updated dictionary."
      ],
      "metadata": {
        "id": "qR-UrTXyH3P6"
      }
    },
    {
      "cell_type": "code",
      "source": [
        "# 1. Creation of the person dictionary\n",
        "person = {\n",
        "    'name': 'Audrey',\n",
        "    'age': 32,\n",
        "    'city': 'Ngaoundere'\n",
        "}"
      ],
      "metadata": {
        "id": "5ZgKx--D6bDT"
      },
      "execution_count": null,
      "outputs": []
    },
    {
      "cell_type": "code",
      "source": [
        "# 2. Printed of the person's information\n",
        "print(\"Person information:\")\n",
        "print(f\"Name: {person['name']}\")\n",
        "print(f\"Age: {person['age']}\")\n",
        "print(f\"City: {person['city']}\")\n",
        "print(\"\\nDictionary:\", person)"
      ],
      "metadata": {
        "colab": {
          "base_uri": "https://localhost:8080/"
        },
        "id": "6AWyg8WZ6veU",
        "outputId": "d5b4ae9a-b55c-449e-b2b3-8db1982c569b"
      },
      "execution_count": null,
      "outputs": [
        {
          "output_type": "stream",
          "name": "stdout",
          "text": [
            "Person information:\n",
            "Name: Audrey\n",
            "Age: 32\n",
            "City: Ngaoundere\n",
            "\n",
            "Dictionary: {'name': 'Audrey', 'age': 32, 'city': 'Ngaoundere'}\n"
          ]
        }
      ]
    },
    {
      "cell_type": "code",
      "source": [
        "# 3. Update the person's age\n",
        "person['age'] = 33"
      ],
      "metadata": {
        "id": "zqKg7WEd7AP1"
      },
      "execution_count": null,
      "outputs": []
    },
    {
      "cell_type": "code",
      "source": [
        "# 4. Add a new key-value pair for occupation\n",
        "person['occupation'] = 'AMMI Student'"
      ],
      "metadata": {
        "id": "F5WGiq787gAo"
      },
      "execution_count": null,
      "outputs": []
    },
    {
      "cell_type": "code",
      "source": [
        "# 5. Display the updated dictionary\n",
        "print(\"\\nUpdated person information:\")\n",
        "print(f\"Name: {person['name']}\")\n",
        "print(f\"Age: {person['age']}\")\n",
        "print(f\"City: {person['city']}\")\n",
        "print(f\"Occupation: {person['occupation']}\")\n",
        "print(\"\\nFull updated dictionary:\", person)"
      ],
      "metadata": {
        "colab": {
          "base_uri": "https://localhost:8080/"
        },
        "id": "a7hv08XP7nf1",
        "outputId": "4b85c830-2932-4bd0-8d20-3878db0882ac"
      },
      "execution_count": null,
      "outputs": [
        {
          "output_type": "stream",
          "name": "stdout",
          "text": [
            "\n",
            "Updated person information:\n",
            "Name: Audrey\n",
            "Age: 33\n",
            "City: Ngaoundere\n",
            "Occupation: AMMI Student\n",
            "\n",
            "Full updated dictionary: {'name': 'Audrey', 'age': 33, 'city': 'Ngaoundere', 'occupation': 'AMMI Student'}\n"
          ]
        }
      ]
    },
    {
      "cell_type": "code",
      "source": [
        "# Write your code here"
      ],
      "metadata": {
        "id": "Hlpnr_thsp-e"
      },
      "execution_count": null,
      "outputs": []
    },
    {
      "cell_type": "markdown",
      "source": [
        "# Ex14:\n",
        "\n",
        "Many organizations have user ids which are constrained in some way. Imagine you work at an internet service provider and the user ids are all two letters followed by two numbers (e.g. aa49). Your task at such an organization might be to hold a record on the billing activity for each possible user.\n",
        "\n",
        "Write an initialization line as a single list comprehension which creates a list of all possible user ids. Assume the letters are all lower case."
      ],
      "metadata": {
        "id": "Vw-3fHSNFoWC"
      }
    },
    {
      "cell_type": "code",
      "source": [
        "user_ids = [f\"{chr(a)}{chr(b)}{c:02d}\"\n",
        "            for a in range(ord('a'), ord('z')+1)\n",
        "            for b in range(ord('a'), ord('z')+1)\n",
        "            for c in range(0, 100)]"
      ],
      "metadata": {
        "id": "MIBu3_nM907X"
      },
      "execution_count": null,
      "outputs": []
    },
    {
      "cell_type": "code",
      "source": [
        "# Write your code here"
      ],
      "metadata": {
        "id": "lBlaus6ZwKRr"
      },
      "execution_count": null,
      "outputs": []
    },
    {
      "cell_type": "markdown",
      "source": [
        "# Ex15:\n",
        "Ask the user to enter a password, then:\n",
        "\n",
        "*   check if it contains uppercase letters, lowercase letters, numbers and special characters.\n",
        "*   Give feedback to the user(\"Strong password!\" or \" The password should include a mix of uppercase letters, lowercase letters, numbers, and special characters.\" ).\n",
        "\n"
      ],
      "metadata": {
        "id": "hCecXHVOFaWG"
      }
    },
    {
      "cell_type": "code",
      "source": [
        "import re\n",
        "\n",
        "def check_password_strength(password):\n",
        "    has_upper = re.search(r'[A-Z]', password) is not None\n",
        "    has_lower = re.search(r'[a-z]', password) is not None\n",
        "    has_digit = re.search(r'[0-9]', password) is not None\n",
        "    has_special = re.search(r'[^A-Za-z0-9]', password) is not None\n",
        "\n",
        "    if has_upper and has_lower and has_digit and has_special:\n",
        "        return \"Strong password!\"\n",
        "    else:\n",
        "        missing = []\n",
        "        if not has_upper:\n",
        "            missing.append(\"uppercase letters\")\n",
        "        if not has_lower:\n",
        "            missing.append(\"lowercase letters\")\n",
        "        if not has_digit:\n",
        "            missing.append(\"numbers\")\n",
        "        if not has_special:\n",
        "            missing.append(\"special characters\")\n",
        "        return f\"The password should include a mix of {', '.join(missing)}.\""
      ],
      "metadata": {
        "id": "fUkU-MQO-2ew"
      },
      "execution_count": null,
      "outputs": []
    },
    {
      "cell_type": "code",
      "source": [
        "# Ask user for password\n",
        "password = input(\"Enter your password: \")\n",
        "feedback = check_password_strength(password)\n",
        "print(feedback)"
      ],
      "metadata": {
        "colab": {
          "base_uri": "https://localhost:8080/"
        },
        "id": "a5e3mCkj_Nq6",
        "outputId": "459e750b-816d-4573-e8b2-e5766229dedf"
      },
      "execution_count": null,
      "outputs": [
        {
          "output_type": "stream",
          "name": "stdout",
          "text": [
            "Enter your password: vERO@.77aud\n",
            "Strong password!\n"
          ]
        }
      ]
    },
    {
      "cell_type": "code",
      "source": [
        "# Write your code here\n"
      ],
      "metadata": {
        "id": "ik9Jg2XbGmcR"
      },
      "execution_count": null,
      "outputs": []
    },
    {
      "cell_type": "markdown",
      "source": [
        "# Ex16:\n",
        "\n",
        "Declare a sum_of_evens_and_odds function that accepts a tuple of numbers.\n",
        "#### It should return a tuple with two numeric values:\n",
        " - the sum of the even numbers\n",
        " - the sum of the odd numbers.\n",
        "* sum_of_evens_and_odds((1, 2, 3, 4))   => (6, 4)\n",
        "* sum_of_evens_and_odds((1, 3, 5))      => (0, 9)\n",
        "* sum_of_evens_and_odds((2, 4, 6))      => (12, 0)\n"
      ],
      "metadata": {
        "id": "rR0les2KG-2C"
      }
    },
    {
      "cell_type": "code",
      "source": [
        "def sum_of_evens_and_odds(numbers):\n",
        "    even_sum = 0\n",
        "    odd_sum = 0\n",
        "    for num in numbers:\n",
        "        if num % 2 == 0:\n",
        "            even_sum += num\n",
        "        else:\n",
        "            odd_sum += num\n",
        "    return (even_sum, odd_sum)"
      ],
      "metadata": {
        "id": "eN1YIanIFMaU"
      },
      "execution_count": null,
      "outputs": []
    },
    {
      "cell_type": "code",
      "source": [
        "sum_of_evens_and_odds((1, 2, 3, 4))"
      ],
      "metadata": {
        "colab": {
          "base_uri": "https://localhost:8080/"
        },
        "id": "nEF0AruyFRuF",
        "outputId": "d5372bcf-58d1-4a7c-c334-f253d759adf7"
      },
      "execution_count": null,
      "outputs": [
        {
          "output_type": "execute_result",
          "data": {
            "text/plain": [
              "(6, 4)"
            ]
          },
          "metadata": {},
          "execution_count": 57
        }
      ]
    },
    {
      "cell_type": "code",
      "source": [
        "# Write your code here\n"
      ],
      "metadata": {
        "id": "i1QUrg1qHEAf"
      },
      "execution_count": null,
      "outputs": []
    },
    {
      "cell_type": "markdown",
      "source": [
        "# Ex17:\n",
        "\n",
        "Define a length_counts function that accepts a list of strings.\n",
        "The function should return a dictionary where the keys represent\n",
        " length and the values represent how many strings have that length.\n",
        "\n",
        " EXAMPLE:\n",
        "* sa_countries = [\"Brazil\", \"Venezuela\", \"Argentina\", \"Ecuador\", \"Bolivia\", \"Peru\"]\n",
        "* length_counts(sa_countries) =&gt; # {6: 1, 9: 2, 7: 2, 4: 1}\n",
        "* There is 1 string with 6 letters, 2 strings with 9 letters,\n",
        "* 2 strings with 7 letters, and 1 string with 4 letters."
      ],
      "metadata": {
        "id": "zN-lIAX6PBv_"
      }
    },
    {
      "cell_type": "code",
      "source": [
        "def length_counts(strings):\n",
        "    c = {}\n",
        "    for s in strings:\n",
        "        length = len(s)\n",
        "        c[length] = c.get(length, 0) + 1\n",
        "    return c"
      ],
      "metadata": {
        "id": "efmyyaKwFy9b"
      },
      "execution_count": null,
      "outputs": []
    },
    {
      "cell_type": "code",
      "source": [
        "length_counts([\"Brazil\", \"Venezuela\", \"Argentina\", \"Ecuador\", \"Bolivia\", \"Peru\"])"
      ],
      "metadata": {
        "colab": {
          "base_uri": "https://localhost:8080/"
        },
        "id": "ADzhe3ZfF6Z_",
        "outputId": "f7188fd3-6416-4ce8-b600-f3ceb32260ae"
      },
      "execution_count": null,
      "outputs": [
        {
          "output_type": "execute_result",
          "data": {
            "text/plain": [
              "{6: 1, 9: 2, 7: 2, 4: 1}"
            ]
          },
          "metadata": {},
          "execution_count": 62
        }
      ]
    },
    {
      "cell_type": "code",
      "source": [
        "# Write your code here"
      ],
      "metadata": {
        "id": "XQNXxohDPI2a"
      },
      "execution_count": null,
      "outputs": []
    },
    {
      "cell_type": "markdown",
      "source": [
        "# Ex18:\n",
        "\n",
        "Given two strings s and t, determine if they are isomorphic.\n",
        "\n",
        "Two strings s and t are isomorphic if the characters in s can be replaced to get t.\n",
        "\n",
        "All occurrences of a character must be replaced with another character while preserving the order of characters. No two characters may map to the same character, but a character may map to itself."
      ],
      "metadata": {
        "id": "18XGQlvusz41"
      }
    },
    {
      "cell_type": "markdown",
      "source": [
        "Input: s = \"egg\", t = \"add\" <br>\n",
        "Output: true\n",
        "<br><br>\n",
        "Input: s = \"foo\", t = \"bar\" <br>\n",
        "Output: false"
      ],
      "metadata": {
        "id": "Y_nkzWLltAqh"
      }
    },
    {
      "cell_type": "code",
      "source": [
        "def isIsomorphic(s: str, t: str) -> bool:\n",
        "    if len(s) != len(t):\n",
        "        return False\n",
        "\n",
        "    s_to_t = {}\n",
        "    t_to_s = {}\n",
        "\n",
        "    for char_s, char_t in zip(s, t):\n",
        "        if char_s in s_to_t:\n",
        "            if s_to_t[char_s] != char_t:\n",
        "                return False\n",
        "        else:\n",
        "            s_to_t[char_s] = char_t\n",
        "\n",
        "        if char_t in t_to_s:\n",
        "            if t_to_s[char_t] != char_s:\n",
        "                return False\n",
        "        else:\n",
        "            t_to_s[char_t] = char_s\n",
        "\n",
        "    return True"
      ],
      "metadata": {
        "id": "GxfQFU1IG579"
      },
      "execution_count": null,
      "outputs": []
    },
    {
      "cell_type": "code",
      "source": [
        "isIsomorphic( \"egg\", \"add\" )"
      ],
      "metadata": {
        "colab": {
          "base_uri": "https://localhost:8080/"
        },
        "id": "S133EnIlHDSx",
        "outputId": "2f75a1e3-0eee-48a6-fc0d-12eb7c04e13a"
      },
      "execution_count": null,
      "outputs": [
        {
          "output_type": "execute_result",
          "data": {
            "text/plain": [
              "True"
            ]
          },
          "metadata": {},
          "execution_count": 66
        }
      ]
    },
    {
      "cell_type": "code",
      "source": [
        "# Write your code here"
      ],
      "metadata": {
        "id": "_6R7d_HHs7jX"
      },
      "execution_count": null,
      "outputs": []
    },
    {
      "cell_type": "markdown",
      "source": [
        "# Ex19:\n",
        "\n",
        " Dot product of vectors: <br>\n",
        "\n",
        "Vectors are mathematical objects that are often used to represent the inputs to neural networks. One way to view the vectors is as list of items. Complete the following code to compute dot product of two vectors. Dot product is defined the following equation:-\n",
        "</font>\n",
        "\n",
        "$$\n",
        "x.y = <x, y> = x^Ty = \\sum_{i}^n x_iy_i\n",
        "$$\n",
        "\n",
        "<font  color=\"white\">\n",
        "Assume that only lists are passed to the function and they also contain only numeric datatype.\n",
        "\n",
        "</font>"
      ],
      "metadata": {
        "id": "ZwDgOtitva28"
      }
    },
    {
      "cell_type": "code",
      "source": [
        "def dot_product(a, b):\n",
        "    if len(a) != len(b):\n",
        "        raise ValueError(\"Vectors must be of the same length\")\n",
        "\n",
        "    result = 0\n",
        "    for i in range(len(a)):\n",
        "        ai = a[i]\n",
        "        bi = b[i]\n",
        "        result += ai * bi\n",
        "\n",
        "    return result"
      ],
      "metadata": {
        "id": "gYWaQSiwH9PN"
      },
      "execution_count": null,
      "outputs": []
    },
    {
      "cell_type": "code",
      "source": [
        "dot_product([1,2,4], [0,1,2])"
      ],
      "metadata": {
        "colab": {
          "base_uri": "https://localhost:8080/"
        },
        "id": "Iox1U877IwWn",
        "outputId": "7af7361e-d1d1-4814-d889-ea27b91a9816"
      },
      "execution_count": null,
      "outputs": [
        {
          "output_type": "execute_result",
          "data": {
            "text/plain": [
              "10"
            ]
          },
          "metadata": {},
          "execution_count": 68
        }
      ]
    },
    {
      "cell_type": "code",
      "source": [
        "# Write your code here"
      ],
      "metadata": {
        "id": "hP7lPZtWv3Ot"
      },
      "execution_count": null,
      "outputs": []
    },
    {
      "cell_type": "markdown",
      "source": [
        "# Ex20:\n",
        "\n",
        "Write a function MatMul that multiplies two 2D matrices A and B and returns the result\n",
        "\n",
        "Validate you code using:\n",
        "\n",
        "```\n",
        "A = [ [1,2,3],[4,5,6] ]\n",
        "B = [ [4,5], [1,2], [0, 1] ]\n",
        "\n",
        "\n",
        "```"
      ],
      "metadata": {
        "id": "M8uSZ_oewecj"
      }
    },
    {
      "cell_type": "code",
      "source": [
        "def MatMul(A, B):\n",
        "    if len(A[0]) != len(B):\n",
        "        raise ValueError(\"Number of columns in A must match number of rows in B\")\n",
        "\n",
        "    m = len(A)\n",
        "    p = len(B[0])\n",
        "    C = [[0 for _ in range(p)] for _ in range(m)]\n",
        "\n",
        "    for i in range(m):\n",
        "        for j in range(p):\n",
        "            for k in range(len(B)):\n",
        "                C[i][j] += A[i][k] * B[k][j]\n",
        "    return C"
      ],
      "metadata": {
        "id": "LD6ly0XCJs_v"
      },
      "execution_count": null,
      "outputs": []
    },
    {
      "cell_type": "code",
      "source": [
        "\n",
        "A = [ [1,2,3],[4,5,6] ]\n",
        "B = [ [4,5], [1,2], [0, 1] ]\n",
        "print(MatMul(A, B))\n",
        "assert MatMul(A, B)==[[6, 12], [21, 36]], \"Your implementation is not correct\"\n",
        "print(\"Congrats, It is working\")"
      ],
      "metadata": {
        "id": "sKKwisC5wuZq",
        "colab": {
          "base_uri": "https://localhost:8080/"
        },
        "outputId": "87563f5f-5a02-43cd-9364-a2092ea78cd9"
      },
      "execution_count": null,
      "outputs": [
        {
          "output_type": "stream",
          "name": "stdout",
          "text": [
            "[[6, 12], [21, 36]]\n",
            "Congrats, It is working\n"
          ]
        }
      ]
    },
    {
      "cell_type": "markdown",
      "source": [
        "#Ex21:\n",
        "\n",
        "<b> Given a list l, reverse l.\n",
        "Ex= [1,2,3,4,5] ==> [5,4,3,2,1]. In this case the operation has to be done in-place. Do not allow new memory space</b>\n",
        "\n",
        "DON't USE THE PYTHON INDEXING [::-1]"
      ],
      "metadata": {
        "id": "BZcW3Dk_eJoz"
      }
    },
    {
      "cell_type": "code",
      "source": [
        "def reverse_in_place(l):\n",
        "    left = 0\n",
        "    right = len(l) - 1\n",
        "    while left < right:\n",
        "        l[left], l[right] = l[right], l[left]\n",
        "        left += 1\n",
        "        right -= 1\n",
        "    return l"
      ],
      "metadata": {
        "id": "k9ypRcT7LDuD"
      },
      "execution_count": null,
      "outputs": []
    },
    {
      "cell_type": "code",
      "source": [
        " reverse_in_place([1,2,3,4,5])"
      ],
      "metadata": {
        "colab": {
          "base_uri": "https://localhost:8080/"
        },
        "id": "oO4RzzqqLQbk",
        "outputId": "ff706e2a-548d-4581-cde6-a877e4556924"
      },
      "execution_count": null,
      "outputs": [
        {
          "output_type": "execute_result",
          "data": {
            "text/plain": [
              "[5, 4, 3, 2, 1]"
            ]
          },
          "metadata": {},
          "execution_count": 73
        }
      ]
    },
    {
      "cell_type": "code",
      "source": [],
      "metadata": {
        "id": "nR0Er78tLMgj"
      },
      "execution_count": null,
      "outputs": []
    },
    {
      "cell_type": "code",
      "source": [
        "# Write your code here"
      ],
      "metadata": {
        "id": "t2nH7TUMeR9S"
      },
      "execution_count": null,
      "outputs": []
    },
    {
      "cell_type": "markdown",
      "source": [
        "# Ex22:\n",
        "\n",
        "<b> Given a string s, check whether s is a palindrome. s is the palindrome if s is equal to its reverse.Using:\n",
        "- slicing in python\n",
        "- loop.</b>\n",
        "\n",
        "example : s='aba' is a palindrom\n",
        "s='abaa' isnot a palindrom"
      ],
      "metadata": {
        "id": "7t8LhgVbespH"
      }
    },
    {
      "cell_type": "code",
      "source": [
        "def is_palindrome(s):\n",
        "    left = 0\n",
        "    right = len(s) - 1\n",
        "    while left < right:\n",
        "        if s[left] != s[right]:\n",
        "            return False\n",
        "        left += 1\n",
        "        right -= 1\n",
        "    return True"
      ],
      "metadata": {
        "id": "NxZ2LUIoL9lX"
      },
      "execution_count": null,
      "outputs": []
    },
    {
      "cell_type": "code",
      "source": [
        "is_palindrome('aba')"
      ],
      "metadata": {
        "colab": {
          "base_uri": "https://localhost:8080/"
        },
        "id": "Mn3sWNx6MHaR",
        "outputId": "581f343c-fd3b-4f68-f6d4-a62618736837"
      },
      "execution_count": null,
      "outputs": [
        {
          "output_type": "execute_result",
          "data": {
            "text/plain": [
              "True"
            ]
          },
          "metadata": {},
          "execution_count": 75
        }
      ]
    },
    {
      "cell_type": "code",
      "source": [
        "# Write your code here"
      ],
      "metadata": {
        "id": "tLIuX7ASesVx"
      },
      "execution_count": null,
      "outputs": []
    },
    {
      "cell_type": "markdown",
      "source": [
        "# Ex23:\n",
        "\n",
        "Find the factorial of a given number:\n",
        "\n",
        "Write a program to use the loop to find the factorial of a given number.\n",
        "\n",
        "The factorial (symbol: !) means to multiply all whole numbers from the chosen number down to 1.\n",
        "\n",
        "For example: calculate the factorial of 5"
      ],
      "metadata": {
        "id": "u5vdU3SBiUqd"
      }
    },
    {
      "cell_type": "code",
      "source": [
        "def factorial(n):\n",
        "    if n < 0:\n",
        "        return \"Factorial is not defined for negative numbers.\"\n",
        "    result = 1\n",
        "    for i in range(2, n + 1):\n",
        "        result *= i\n",
        "    return result"
      ],
      "metadata": {
        "id": "lULpnBeM7oPb"
      },
      "execution_count": null,
      "outputs": []
    },
    {
      "cell_type": "code",
      "source": [
        "# Example usage\n",
        "print(factorial(5))"
      ],
      "metadata": {
        "colab": {
          "base_uri": "https://localhost:8080/"
        },
        "id": "2lxW4Q4077KQ",
        "outputId": "aea29356-75ed-4687-a6f6-a09c9fb03591"
      },
      "execution_count": null,
      "outputs": [
        {
          "output_type": "stream",
          "name": "stdout",
          "text": [
            "120\n"
          ]
        }
      ]
    },
    {
      "cell_type": "code",
      "source": [
        "# Write your code here"
      ],
      "metadata": {
        "id": "TPzmWdq7ieiu"
      },
      "execution_count": null,
      "outputs": []
    },
    {
      "cell_type": "markdown",
      "source": [
        "# Ex24:\n",
        "\n",
        "Display Fibonacci series up to 10 terms:\n",
        "\n",
        "The Fibonacci Sequence is a series of numbers. The next number is found by adding up the two numbers before it. The first two numbers are 0 and 1.\n",
        "\n",
        "For example, 0, 1, 1, 2, 3, 5, 8, 13, 21. The next number in this series above is 13+21 = 34."
      ],
      "metadata": {
        "id": "G6evsWkHimeY"
      }
    },
    {
      "cell_type": "code",
      "source": [
        "def fibonacci_10_terms():\n",
        "    a, b = 0, 1\n",
        "    print(a, end=\", \")\n",
        "    print(b, end=\", \")\n",
        "\n",
        "    for _ in range(8):\n",
        "        c = a + b\n",
        "        print(c, end=\", \")\n",
        "        a, b = b, c\n",
        "\n",
        "fibonacci_10_terms()"
      ],
      "metadata": {
        "colab": {
          "base_uri": "https://localhost:8080/"
        },
        "id": "2jg_l8HoFQOn",
        "outputId": "65ca41e9-3596-485e-b7b9-74550a42296d"
      },
      "execution_count": null,
      "outputs": [
        {
          "output_type": "stream",
          "name": "stdout",
          "text": [
            "0, 1, 1, 2, 3, 5, 8, 13, 21, 34, "
          ]
        }
      ]
    },
    {
      "cell_type": "code",
      "source": [
        "# Write your code here"
      ],
      "metadata": {
        "id": "aZC6D0VOiq4F"
      },
      "execution_count": null,
      "outputs": []
    },
    {
      "cell_type": "markdown",
      "source": [
        "# Ex25:\n",
        "\n",
        "- Write a program to display all prime numbers within a range.\n",
        "\n",
        "- range\n",
        "start = 19\n",
        "end = 70"
      ],
      "metadata": {
        "id": "5XdX6KBqi2S1"
      }
    },
    {
      "cell_type": "code",
      "source": [
        "def is_prime(n):\n",
        "    if n < 2:\n",
        "        return False\n",
        "    for i in range(2, int(n ** 0.5) + 1):\n",
        "        if n % i == 0:\n",
        "            return False\n",
        "    return True\n",
        "\n",
        "def primes_in_range(start, end):\n",
        "    primes = []\n",
        "    for num in range(start, end + 1):\n",
        "        if is_prime(num):\n",
        "            primes.append(num)\n",
        "    return primes"
      ],
      "metadata": {
        "id": "1iRq-8naJEDc"
      },
      "execution_count": null,
      "outputs": []
    },
    {
      "cell_type": "code",
      "source": [
        "# Example usage\n",
        "start = 19\n",
        "end = 70\n",
        "prime_numbers = primes_in_range(start, end)\n",
        "print(f\"Prime numbers between {start} and {end}:\")\n",
        "print(prime_numbers)"
      ],
      "metadata": {
        "colab": {
          "base_uri": "https://localhost:8080/"
        },
        "id": "LTRz3AmKJMm6",
        "outputId": "26949383-beed-4b56-f603-3748c84f39b0"
      },
      "execution_count": null,
      "outputs": [
        {
          "output_type": "stream",
          "name": "stdout",
          "text": [
            "Prime numbers between 19 and 70:\n",
            "[19, 23, 29, 31, 37, 41, 43, 47, 53, 59, 61, 67]\n"
          ]
        }
      ]
    },
    {
      "cell_type": "code",
      "source": [
        "# Write your code here"
      ],
      "metadata": {
        "id": "wmxegZhOi9qb"
      },
      "execution_count": null,
      "outputs": []
    },
    {
      "cell_type": "markdown",
      "source": [
        "#Ex26:\n",
        "Write a program to copy the contents of one text file (input.txt) to another file (output.txt). Handle the case where file1 does not exist."
      ],
      "metadata": {
        "id": "ndYKDm2JHr39"
      }
    },
    {
      "cell_type": "code",
      "source": [
        "def copy_file(input_filename, output_filename):\n",
        "    try:\n",
        "        with open(input_filename, 'r') as input_file:\n",
        "            content = input_file.read()\n",
        "\n",
        "        with open(output_filename, 'w') as output_file:\n",
        "            output_file.write(content)\n",
        "        print(f\"Successfully copied '{input_filename}' to '{output_filename}'.\")\n",
        "\n",
        "    except FileNotFoundError:\n",
        "        print(f\"Error: '{input_filename}' does not exist.\")\n",
        "    except Exception as e:\n",
        "        print(f\"An error occurred: {e}\")"
      ],
      "metadata": {
        "id": "e3rOBXFHKS9j"
      },
      "execution_count": null,
      "outputs": []
    },
    {
      "cell_type": "code",
      "source": [
        "from google.colab import drive\n",
        "drive.mount('/content/drive')"
      ],
      "metadata": {
        "colab": {
          "base_uri": "https://localhost:8080/"
        },
        "id": "W6ovu9A4nL7i",
        "outputId": "4653878f-3f1b-48a3-88c0-fb033bf4a804"
      },
      "execution_count": 10,
      "outputs": [
        {
          "output_type": "stream",
          "name": "stdout",
          "text": [
            "Mounted at /content/drive\n"
          ]
        }
      ]
    },
    {
      "cell_type": "code",
      "source": [
        "! touch input.txt"
      ],
      "metadata": {
        "id": "uoyQjo22l1Cy"
      },
      "execution_count": 11,
      "outputs": []
    },
    {
      "cell_type": "code",
      "source": [
        "! touch output.txt"
      ],
      "metadata": {
        "id": "bwUztbxYmBC5"
      },
      "execution_count": 12,
      "outputs": []
    },
    {
      "cell_type": "code",
      "source": [
        "! pwd"
      ],
      "metadata": {
        "colab": {
          "base_uri": "https://localhost:8080/"
        },
        "id": "fdH5tqzPpVwf",
        "outputId": "a5f5f8ca-eda8-41d3-e9a4-620d08f498e7"
      },
      "execution_count": 13,
      "outputs": [
        {
          "output_type": "stream",
          "name": "stdout",
          "text": [
            "/content\n"
          ]
        }
      ]
    },
    {
      "cell_type": "code",
      "source": [
        "! echo \"This is just for testing \\n Python is fun\" >> input.txt"
      ],
      "metadata": {
        "id": "jQXwAf2LmB5x"
      },
      "execution_count": 15,
      "outputs": []
    },
    {
      "cell_type": "code",
      "source": [
        "# Example usage\n",
        "copy_file(\"input.txt\", \"output.txt\")"
      ],
      "metadata": {
        "colab": {
          "base_uri": "https://localhost:8080/"
        },
        "id": "ZLJOcwyjKc2T",
        "outputId": "d653adcf-d10a-4840-c012-5c898193839c"
      },
      "execution_count": 16,
      "outputs": [
        {
          "output_type": "stream",
          "name": "stdout",
          "text": [
            "Contents of 'input.txt' have been copied to 'output.txt'.\n"
          ]
        }
      ]
    },
    {
      "cell_type": "code",
      "source": [
        "import shutil\n",
        "import os\n",
        "\n",
        "def copy_file(input_file, output_file):\n",
        "    try:\n",
        "        # Check if the input file exists\n",
        "        if not os.path.exists(input_file):\n",
        "            print(f\"Error: The file '{input_file}' does not exist.\")\n",
        "            return\n",
        "\n",
        "        # Copy the contents of the input file to the output file\n",
        "        shutil.copyfile(input_file, output_file)\n",
        "        print(f\"Contents of '{input_file}' have been copied to '{output_file}'.\")\n",
        "    except Exception as e:\n",
        "        print(f\"An error occurred: {e}\")\n",
        "\n",
        "# Example usage\n",
        "copy_file('input.txt', 'output.txt')"
      ],
      "metadata": {
        "colab": {
          "base_uri": "https://localhost:8080/"
        },
        "id": "tyPoPrtlTHqU",
        "outputId": "a1e47974-9d5f-43cb-c569-20b3e72877ee"
      },
      "execution_count": null,
      "outputs": [
        {
          "output_type": "stream",
          "name": "stdout",
          "text": [
            "Error: The file 'input.txt' does not exist.\n"
          ]
        }
      ]
    },
    {
      "cell_type": "code",
      "source": [
        "# Write your code here"
      ],
      "metadata": {
        "id": "uE0h7JNcvsb_"
      },
      "execution_count": null,
      "outputs": []
    }
  ]
}